{
 "cells": [
  {
   "cell_type": "markdown",
   "id": "23a3f287-e48b-4ed6-b35c-b02fe9bd350f",
   "metadata": {},
   "source": [
    "# Neural Network Testing: Student Academic Performance"
   ]
  },
  {
   "cell_type": "markdown",
   "id": "cd4345c2-ab1f-4c3e-b895-e53101f6f056",
   "metadata": {},
   "source": [
    "### Objective:\n",
    "\n",
    "Test the neural network model in neuralnetwork.py on the student-por.csv dataset."
   ]
  },
  {
   "cell_type": "markdown",
   "id": "c7b33939-3e87-47c5-aec6-e8adfbc08868",
   "metadata": {},
   "source": [
    "## Background\n",
    "\n",
    "The NeuralNetwork class did very well in classifying hand-written digits in digit_classification.ipynb. Unfortunately, the dataset I used for digit classification in https://github.com/mgta2/machine-learning-course/blob/main/8_ensemble_methods.ipynb is different from that used in this project. Even the pictures have a different number of pixels (8x8 vs 28x28). Therefore, I can't compare results and can't make any conclusions about using neural nets for digit classification vs decision trees.\n",
    "\n",
    "Instead of re-running the same experiment on a different dataset, I will follow up on my project in https://github.com/mgta2/machine-learning-capstone-project\n",
    "\n",
    "This project involved trying to predict a high-school student's academic performance from data collected in school reports and questionnaires. I applied linear regression to the problem. In short, the linear regression model wasn't great at predicting the student's actual mark, but it did grant insight into which factors are considered the most important in influencing their grade (e.g. weekend alcohol consumption vs hours spent studying vs number of class absences). The model also did a pretty good job of predicting which students would pass or fail.\n",
    "\n",
    "### Warning:\n",
    "\n",
    "The rest of this document assumes the reader has already read https://github.com/mgta2/machine-learning-capstone-project and so will not repeat information (there's nothing complicated in that project, I just won't re-explain decisions made about handling the data)."
   ]
  },
  {
   "cell_type": "code",
   "execution_count": 1,
   "id": "4296a7ca-7730-48c0-ba2d-e79953cba8c4",
   "metadata": {},
   "outputs": [],
   "source": [
    "import numpy\n",
    "from neuralnetwork import NeuralNetwork"
   ]
  },
  {
   "cell_type": "code",
   "execution_count": 2,
   "id": "79b60287-77f5-43e8-8768-b7a0440fa1fc",
   "metadata": {},
   "outputs": [],
   "source": [
    "with open(\"student-por.csv\", \"r\") as f:\n",
    "    data = f.readlines()"
   ]
  },
  {
   "cell_type": "code",
   "execution_count": 3,
   "id": "ab1999ba-5a73-455a-9795-e3dfef31e9e4",
   "metadata": {},
   "outputs": [
    {
     "name": "stdout",
     "output_type": "stream",
     "text": [
      "school;sex;age;address;famsize;Pstatus;Medu;Fedu;Mjob;Fjob;reason;guardian;traveltime;studytime;failures;schoolsup;famsup;paid;activities;nursery;higher;internet;romantic;famrel;freetime;goout;Dalc;Walc;health;absences;G1;G2;G3\n",
      "\n"
     ]
    }
   ],
   "source": [
    "print(data[0])"
   ]
  },
  {
   "cell_type": "markdown",
   "id": "45ea3fe1-3f3c-4e70-8e87-4caf56102714",
   "metadata": {},
   "source": [
    "## Transforming the Data"
   ]
  },
  {
   "cell_type": "code",
   "execution_count": 4,
   "id": "3cfc506e-9154-41ea-aafc-afb811b65e8a",
   "metadata": {},
   "outputs": [],
   "source": [
    "# this code is a little horrendous but I haven't built the NeuralNetwork class to work nicely with pandas.\n",
    "# this code achieves the same effect as in the capstone project, but with modifications for this neural net.\n",
    "bad_indices = [0,8,9,10,11,30,31]\n",
    "good_indices = [15,16,17,18,19,20,21,22]\n",
    "def transform(datapoint):\n",
    "    attributes = datapoint.split(\";\")\n",
    "    target = int(attributes[32])\n",
    "    inputs = []\n",
    "    for i in range(32):\n",
    "        if i in bad_indices:\n",
    "            continue\n",
    "        elif i == 1:\n",
    "            if attributes[1] == \"M\":\n",
    "                inputs.append(1)\n",
    "            else:\n",
    "                inputs.append(0.01)\n",
    "        elif i == 2:\n",
    "            # age ranges 15-22\n",
    "            inputs.append((int(attributes[i])-14)/8)\n",
    "        elif i == 3:\n",
    "            if attributes[3] == \"U\":\n",
    "                inputs.append(1)\n",
    "            else:\n",
    "                inputs.append(0.01)\n",
    "        elif i == 4:\n",
    "            if attributes[4] == \"LE3\":\n",
    "                inputs.append(1)\n",
    "            else:\n",
    "                inputs.append(0.01)\n",
    "        elif i == 5:\n",
    "            if attributes[5] == \"T\":\n",
    "                inputs.append(1)\n",
    "            else:\n",
    "                inputs.append(0.01)\n",
    "        elif i == 6:\n",
    "            # Medu ranges 0-4\n",
    "            inputs.append((int(attributes[i])+1)/5)\n",
    "        elif i == 7:\n",
    "            # Fedu ranges 0-4\n",
    "            inputs.append((int(attributes[i])+1)/5)\n",
    "        elif i == 29:\n",
    "            # absences ranges 0 to 93\n",
    "            inputs.append(0.01 + int(attributes[i])/94)\n",
    "        elif i in good_indices:\n",
    "            if attributes[i] == \"yes\":\n",
    "                inputs.append(1)\n",
    "            else:\n",
    "                inputs.append(0.01)\n",
    "        else:\n",
    "            inputs.append(int(attributes[i])/5)\n",
    "    return inputs, target"
   ]
  },
  {
   "cell_type": "markdown",
   "id": "2bb67909-63e3-401f-8dc5-10ca2abed77b",
   "metadata": {},
   "source": [
    "As in digit_classification.ipynb, I have rescaled the inputs to avoid 0. The targets must also avoid 0 and not be too large (this is done below)."
   ]
  },
  {
   "cell_type": "code",
   "execution_count": 5,
   "id": "65bbc441-a459-43bb-85c7-81d4e54d86ca",
   "metadata": {},
   "outputs": [
    {
     "name": "stdout",
     "output_type": "stream",
     "text": [
      "([0.01, 0.5, 0.01, 0.01, 0.01, 1.0, 1.0, 0.4, 0.4, 0.0, 0.01, 0.01, 0.01, 0.01, 0.01, 0.01, 0.01, 0.01, 0.8, 0.6, 0.8, 0.2, 0.2, 0.6, 0.0525531914893617], 11)\n"
     ]
    }
   ],
   "source": [
    "print(transform(data[1]))"
   ]
  },
  {
   "cell_type": "markdown",
   "id": "ff8175f8-1275-4c1f-97eb-facee7e69c4a",
   "metadata": {},
   "source": [
    "## Training and Testing the Neural Network\n",
    "\n",
    "The neural network will have 25 input nodes and 21 output nodes. For an initial test, I'll take 40 hidden nodes in a depth 3 network. There isn't much data (only 649 entries) so too many nodes will likely prevent the model from learning much at all. I will take 454 for training and the rest for testing (to mimic the 70-30 train-test split in my capstone project)"
   ]
  },
  {
   "cell_type": "code",
   "execution_count": 6,
   "id": "5dc6d4f5-1d68-47d2-8017-fbdfc9a33b1d",
   "metadata": {},
   "outputs": [],
   "source": [
    "net = NeuralNetwork([25,40,21],0.2)"
   ]
  },
  {
   "cell_type": "code",
   "execution_count": 7,
   "id": "28101dcb-e20d-49cb-a388-e8377c2affd2",
   "metadata": {},
   "outputs": [],
   "source": [
    "for datapoint in data[1:455]:\n",
    "    inputs, target = transform(datapoint)\n",
    "    targets = [0.01]*21\n",
    "    targets[target] = 0.99\n",
    "    net.train(inputs,targets)"
   ]
  },
  {
   "cell_type": "code",
   "execution_count": 8,
   "id": "a8359cc7-d8a6-4667-9a4c-3068b0c3445c",
   "metadata": {},
   "outputs": [
    {
     "name": "stdout",
     "output_type": "stream",
     "text": [
      "The training score was: 79\n",
      "The training accuracy was: 0.17400881057268722\n"
     ]
    }
   ],
   "source": [
    "train_score = 0\n",
    "for datapoint in data[1:455]:\n",
    "    inputs, target = transform(datapoint)\n",
    "    outputs = net.query(inputs)\n",
    "    label = numpy.argmax(outputs)\n",
    "    if label == target:\n",
    "        train_score += 1\n",
    "print(\"The training score was:\", train_score)\n",
    "print(\"The training accuracy was:\", train_score/454)"
   ]
  },
  {
   "cell_type": "code",
   "execution_count": 9,
   "id": "fafbad98-d84c-4642-98cc-73a36d1d8977",
   "metadata": {},
   "outputs": [
    {
     "name": "stdout",
     "output_type": "stream",
     "text": [
      "The testing score was: 25\n",
      "The testing accuracy was: 0.1282051282051282\n"
     ]
    }
   ],
   "source": [
    "test_score = 0\n",
    "for datapoint in data[455:]:\n",
    "    inputs, target = transform(datapoint)\n",
    "    outputs = net.query(inputs)\n",
    "    label = numpy.argmax(outputs)\n",
    "    if label == target:\n",
    "        test_score += 1\n",
    "print(\"The testing score was:\", test_score)\n",
    "print(\"The testing accuracy was:\", test_score/195)"
   ]
  },
  {
   "cell_type": "code",
   "execution_count": 10,
   "id": "59f40aaf-4a30-412d-bad4-a6fa05f274c4",
   "metadata": {},
   "outputs": [
    {
     "name": "stdout",
     "output_type": "stream",
     "text": [
      "[[0.0201591 ]\n",
      " [0.01744627]\n",
      " [0.01759126]\n",
      " [0.0200125 ]\n",
      " [0.01808597]\n",
      " [0.01918188]\n",
      " [0.01871485]\n",
      " [0.02396965]\n",
      " [0.0428814 ]\n",
      " [0.04600652]\n",
      " [0.078422  ]\n",
      " [0.27925442]\n",
      " [0.07453217]\n",
      " [0.07106508]\n",
      " [0.07465506]\n",
      " [0.07392684]\n",
      " [0.04879248]\n",
      " [0.0845522 ]\n",
      " [0.03172962]\n",
      " [0.02012628]\n",
      " [0.01624351]]\n"
     ]
    }
   ],
   "source": [
    "print(outputs) # this is the output from the last tested query."
   ]
  },
  {
   "cell_type": "markdown",
   "id": "9eb3baab-12ed-41e7-a2ca-92326d066b91",
   "metadata": {
    "tags": []
   },
   "source": [
    "### Comments:\n",
    "\n",
    "The neural network is terrible at predicting the student's grade from 0 to 20.\n",
    "\n",
    "This is unsurprising. First, at only 454 datapoints to train on, there is very little data available. Second, one would never expect it to be the case that a model could perfectly predict a student's score using only school reports and questionnaires.\n",
    "\n",
    "Therefore, I will abandon this goal and instead move onto a much more reasonable task - trying to classify student's into pass (score > 9) and fail (score <= 9)."
   ]
  },
  {
   "cell_type": "code",
   "execution_count": 11,
   "id": "2546f531-e6e7-4e40-98e0-cc083386f3b5",
   "metadata": {},
   "outputs": [],
   "source": [
    "neural_net = NeuralNetwork([25,40,2], 0.2)"
   ]
  },
  {
   "cell_type": "code",
   "execution_count": 12,
   "id": "7b8b514d-62dc-40dd-b4e8-e6240f433eaa",
   "metadata": {},
   "outputs": [],
   "source": [
    "for datapoint in data[1:455]:\n",
    "    inputs, target = transform(datapoint)\n",
    "    targets = [0.01]*2\n",
    "    if target > 9:\n",
    "        targets[1] = 0.99\n",
    "    else:\n",
    "        targets[0] = 0.99\n",
    "    neural_net.train(inputs,targets)"
   ]
  },
  {
   "cell_type": "code",
   "execution_count": 13,
   "id": "ec2b6a32-90ab-4e8c-b00a-d4e047a0a402",
   "metadata": {},
   "outputs": [
    {
     "name": "stdout",
     "output_type": "stream",
     "text": [
      "The training score was: 413\n",
      "The training accuracy was: 0.9096916299559471\n"
     ]
    }
   ],
   "source": [
    "train_score = 0\n",
    "for datapoint in data[1:455]:\n",
    "    inputs, target = transform(datapoint)\n",
    "    outputs = neural_net.query(inputs)\n",
    "    label = numpy.argmax(outputs)\n",
    "    if (label == 1 and target > 9) or (label == 0 and target <= 9):\n",
    "        train_score += 1\n",
    "print(\"The training score was:\", train_score)\n",
    "print(\"The training accuracy was:\", train_score/454)"
   ]
  },
  {
   "cell_type": "code",
   "execution_count": 14,
   "id": "ca4ddfa8-2c16-464d-a16e-18b42eb578dc",
   "metadata": {},
   "outputs": [
    {
     "name": "stdout",
     "output_type": "stream",
     "text": [
      "The testing score was: 136\n",
      "The testing accuracy was: 0.6974358974358974\n"
     ]
    }
   ],
   "source": [
    "test_score = 0\n",
    "for datapoint in data[455:]:\n",
    "    inputs, target = transform(datapoint)\n",
    "    outputs = neural_net.query(inputs)\n",
    "    label = numpy.argmax(outputs)\n",
    "    if (label == 1 and target > 9) or (label == 0 and target <= 9):\n",
    "        test_score += 1\n",
    "print(\"The testing score was:\", test_score)\n",
    "print(\"The testing accuracy was:\", test_score/195)"
   ]
  },
  {
   "cell_type": "markdown",
   "id": "e6480f8d-5826-42c5-95ee-453a57f84c94",
   "metadata": {},
   "source": [
    "### Comments:\n",
    "\n",
    "This was much better than trying to outright predict the student's score, but still not great. Again, the lack of large amounts of data means that this endeavour was likely to fail from the start. It is also unlikely that even the best model, trained on huge amounts of data, would ever be reliable in predicting a student's pass/fail chance based solely off self-reported questionnaires and school reports.\n",
    "\n",
    "That said, the linear regression model had a pass/fail prediction accuracy of 84%, while the above neural network only achieved 70%."
   ]
  },
  {
   "cell_type": "markdown",
   "id": "21b5084a-a576-42c5-8fc4-dfc260232798",
   "metadata": {},
   "source": [
    "## Conclusion\n",
    "\n",
    "The Neural Network did not perform amazingly here. The linear regression model seems to be able to do more with less data. This intuitively makes sense. Linear regression attempts to find a hyperplane which best fits the data. Linear relationships are simple models and often don't need much data before a pattern emerges. Neural Networks on the other hand are far more mysterious, and it seems intuitive that large amounts of data are needed before one can get clear output signals.\n",
    "\n",
    "Still, a correct pass/fail prediction rate of 70% shows that the model was able to extract some information from the data. Therefore, the NeuralNetwork class is functioning as hoped."
   ]
  }
 ],
 "metadata": {
  "kernelspec": {
   "display_name": "Python 3 (ipykernel)",
   "language": "python",
   "name": "python3"
  },
  "language_info": {
   "codemirror_mode": {
    "name": "ipython",
    "version": 3
   },
   "file_extension": ".py",
   "mimetype": "text/x-python",
   "name": "python",
   "nbconvert_exporter": "python",
   "pygments_lexer": "ipython3",
   "version": "3.9.12"
  }
 },
 "nbformat": 4,
 "nbformat_minor": 5
}
