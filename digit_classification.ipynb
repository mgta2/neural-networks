{
 "cells": [
  {
   "cell_type": "markdown",
   "id": "af3e826f-c909-4107-9e7c-4247c42c18b1",
   "metadata": {},
   "source": [
    "# Neural Network Testing: Digit Classification"
   ]
  },
  {
   "cell_type": "markdown",
   "id": "01bd9f08-b9d2-459d-ba4b-4a8f79b76674",
   "metadata": {
    "tags": []
   },
   "source": [
    "### Objective:\n",
    "\n",
    "Test the neural network model in neuralnetwork.py on the MNIST hand-written digits dataset."
   ]
  },
  {
   "cell_type": "code",
   "execution_count": 1,
   "id": "3b1ad0a1-ae5c-4984-88fc-9df333c50661",
   "metadata": {},
   "outputs": [],
   "source": [
    "import numpy\n",
    "from neuralnetwork import NeuralNetwork"
   ]
  },
  {
   "cell_type": "code",
   "execution_count": 2,
   "id": "aa42850f-1162-4016-a979-92d587adf635",
   "metadata": {},
   "outputs": [],
   "source": [
    "with open(\"mnist_train.csv\", \"r\") as f:\n",
    "    train_data = f.readlines()\n",
    "with open(\"mnist_test.csv\", \"r\") as f:\n",
    "    test_data = f.readlines()"
   ]
  },
  {
   "cell_type": "markdown",
   "id": "0dd22fc5-aa8f-405f-bb54-247410ecfb81",
   "metadata": {},
   "source": [
    "### Dataset Description\n",
    "\n",
    "The training set has 60,000 datapoints, while the testing set has 10,000. Each datapoint consists of a label (0 to 9) and $28^2 =  784$ integers from 0 to 255 encoding lightness vs darkness."
   ]
  },
  {
   "cell_type": "markdown",
   "id": "effe8df4-8e5e-43e2-8e3d-5e5180f2314f",
   "metadata": {
    "tags": []
   },
   "source": [
    "### Rescaling the Data\n",
    "\n",
    "Our Neural Network will have 784 input nodes (for each 0-255 integer) and 10 output nodes (for each digit 0-9).\n",
    "\n",
    "The chosen activation function (see neuralnetwork.py) only takes values between 0 and 1 (and neither can be attained). Therefore, our targets must be rescaled; 0.01 to 0.99 is chosen. This is discussed in more depth in theory.md.\n",
    "\n",
    "Similarly, the inputs must be rescaled from 0-255 to 0.01-1.00. We must avoid 0, else this will kill any weight updates and the network wouldn't be able to extract information. Also, large values must be scaled down, else the gradient of the activation function will be too small for effective learning (the weight updates from gradient descent will have little effect)."
   ]
  },
  {
   "cell_type": "code",
   "execution_count": 3,
   "id": "0c15b78d-eef1-4701-8066-95b6a444c30b",
   "metadata": {},
   "outputs": [],
   "source": [
    "def transform(datapoint):\n",
    "    attributes = datapoint.split(\",\")\n",
    "    inputs = [0]*784\n",
    "    for i in range(1, 785):\n",
    "        inputs[i-1] = 0.99*(int(attributes[i])/255) + 0.01\n",
    "    return int(attributes[0]), inputs"
   ]
  },
  {
   "cell_type": "markdown",
   "id": "49f4c9dc-3113-457a-a527-f0553116f02f",
   "metadata": {},
   "source": [
    "### Training and Testing the Model"
   ]
  },
  {
   "cell_type": "code",
   "execution_count": 4,
   "id": "f2abfa57-a256-4abd-b188-fccbb46cc584",
   "metadata": {},
   "outputs": [],
   "source": [
    "neuralnet = NeuralNetwork([784, 100, 10], 0.2)"
   ]
  },
  {
   "cell_type": "code",
   "execution_count": 5,
   "id": "a72f4ed3-db00-4395-8cc4-2ea427189444",
   "metadata": {},
   "outputs": [],
   "source": [
    "for datapoint in train_data:\n",
    "    target, inputs = transform(datapoint)\n",
    "    targets = [0.01]*10\n",
    "    targets[target] = 0.99\n",
    "    neuralnet.train(inputs, targets)"
   ]
  },
  {
   "cell_type": "code",
   "execution_count": 6,
   "id": "49fda889-ba9b-47fe-b864-337b8f4360d2",
   "metadata": {},
   "outputs": [
    {
     "name": "stdout",
     "output_type": "stream",
     "text": [
      "The train score is: 57346\n",
      "The train accuracy is:  0.9557666666666667\n"
     ]
    }
   ],
   "source": [
    "train_score = 0\n",
    "for datapoint in train_data:\n",
    "    target, inputs = transform(datapoint)\n",
    "    outputs = neuralnet.query(inputs)\n",
    "    label = numpy.argmax(outputs)\n",
    "    if label == target:\n",
    "        train_score += 1\n",
    "print(\"The train score is:\", train_score)\n",
    "print(\"The train accuracy is: \", train_score/60000)"
   ]
  },
  {
   "cell_type": "code",
   "execution_count": 7,
   "id": "74b13696-c72f-465d-90c8-ad9107844322",
   "metadata": {},
   "outputs": [
    {
     "name": "stdout",
     "output_type": "stream",
     "text": [
      "The test score is: 9518\n",
      "The test accuracy is:  0.9518\n"
     ]
    }
   ],
   "source": [
    "test_score = 0\n",
    "for datapoint in test_data:\n",
    "    target, inputs = transform(datapoint)\n",
    "    outputs = neuralnet.query(inputs)\n",
    "    label = numpy.argmax(outputs)\n",
    "    if label == target:\n",
    "        test_score += 1\n",
    "print(\"The test score is:\", test_score)\n",
    "print(\"The test accuracy is: \", test_score/10000)"
   ]
  },
  {
   "cell_type": "markdown",
   "id": "e9a28dcd-3d20-4360-8a19-838ff60bbcb0",
   "metadata": {},
   "source": [
    "### Comments:\n",
    "\n",
    "(1) The train accuracy and test accuracy were both remarkably similar. This suggests that the model is not overfitting.\n",
    "\n",
    "(2) The code above took my laptop about a minute to run."
   ]
  },
  {
   "cell_type": "markdown",
   "id": "21233ee9-0d51-4ee8-8fa5-2b1729eab887",
   "metadata": {},
   "source": [
    "### Next Stages\n",
    "\n",
    "Now I will test the model with a different network shape."
   ]
  },
  {
   "cell_type": "code",
   "execution_count": 8,
   "id": "0a9a66e3-461f-4a1b-9db3-e343f9f4b414",
   "metadata": {},
   "outputs": [],
   "source": [
    "n = NeuralNetwork([784, 80, 40, 10], 0.2)"
   ]
  },
  {
   "cell_type": "code",
   "execution_count": 9,
   "id": "2bdcd72d-c59a-4389-88c4-0808e7d29b90",
   "metadata": {},
   "outputs": [],
   "source": [
    "for datapoint in train_data:\n",
    "    target, inputs = transform(datapoint)\n",
    "    targets = [0.01]*10\n",
    "    targets[target] = 0.99\n",
    "    n.train(inputs, targets)"
   ]
  },
  {
   "cell_type": "code",
   "execution_count": 10,
   "id": "c6855f18-3a53-4c70-8d7f-187e54df42e6",
   "metadata": {},
   "outputs": [
    {
     "name": "stdout",
     "output_type": "stream",
     "text": [
      "The train score was: 49326\n",
      "The train accuracy was: 0.8221\n"
     ]
    }
   ],
   "source": [
    "train_score = 0\n",
    "for datapoint in train_data:\n",
    "    target, inputs = transform(datapoint)\n",
    "    outputs = n.query(inputs)\n",
    "    label = numpy.argmax(outputs)\n",
    "    if label == target:\n",
    "        train_score += 1\n",
    "print(\"The train score was:\", train_score)\n",
    "print(\"The train accuracy was:\", train_score/60000)"
   ]
  },
  {
   "cell_type": "code",
   "execution_count": 11,
   "id": "4d791a72-5356-4a1d-9240-85b50934b73b",
   "metadata": {},
   "outputs": [
    {
     "name": "stdout",
     "output_type": "stream",
     "text": [
      "The test score was: 8275\n",
      "The test accuracy was: 0.8275\n"
     ]
    }
   ],
   "source": [
    "test_score = 0\n",
    "for datapoint in test_data:\n",
    "    target, inputs = transform(datapoint)\n",
    "    outputs = n.query(inputs)\n",
    "    label = numpy.argmax(outputs)\n",
    "    if label == target:\n",
    "        test_score += 1\n",
    "print(\"The test score was:\", test_score)\n",
    "print(\"The test accuracy was:\", test_score/10000)"
   ]
  },
  {
   "cell_type": "markdown",
   "id": "71ddfbe8-4a96-450e-9881-f36626a8b023",
   "metadata": {},
   "source": [
    "### Comments:\n",
    "\n",
    "(1) We again had remarkably low levels of overfitting. This suggests a learning rate of 0.2 is good and the model is able to learn well.\n",
    "\n",
    "(2) This time the accuracy was way worse. This suggests that the network shape is very important. The model \"learnt well\" but it seems this shape isn't right.\n",
    "\n",
    "(3) A proper analysis here would require several runs (as the randomly chosen initial weights will have an effect on how the gradient descent algorithm works)."
   ]
  },
  {
   "cell_type": "markdown",
   "id": "8222ab76-86db-4f89-b926-6155450669e2",
   "metadata": {},
   "source": [
    "### Final Test\n",
    "\n",
    "As this project is more a 'proof of concept/learning tool' than actually trying to build the best digit classification model, I won't run a bunch of tests. Instead, I'll try one last network shape."
   ]
  },
  {
   "cell_type": "code",
   "execution_count": 12,
   "id": "ea8d9c8f-39b9-4060-a09d-df9e1a29b771",
   "metadata": {},
   "outputs": [],
   "source": [
    "final_net = NeuralNetwork([784, 200, 10], 0.2)"
   ]
  },
  {
   "cell_type": "code",
   "execution_count": 13,
   "id": "14da610f-a486-456e-9f94-55b80520d956",
   "metadata": {},
   "outputs": [],
   "source": [
    "for datapoint in train_data:\n",
    "    target, inputs = transform(datapoint)\n",
    "    targets = [0.01]*10\n",
    "    targets[target] = 0.99\n",
    "    final_net.train(inputs, targets)"
   ]
  },
  {
   "cell_type": "code",
   "execution_count": 14,
   "id": "bcea7982-e05e-4aa3-baf5-8674666c6496",
   "metadata": {},
   "outputs": [
    {
     "name": "stdout",
     "output_type": "stream",
     "text": [
      "The train score was: 57705\n",
      "The train accuracy was: 0.96175\n"
     ]
    }
   ],
   "source": [
    "train_score = 0\n",
    "for datapoint in train_data:\n",
    "    target, inputs = transform(datapoint)\n",
    "    outputs = final_net.query(inputs)\n",
    "    label = numpy.argmax(outputs)\n",
    "    if label == target:\n",
    "        train_score += 1\n",
    "print(\"The train score was:\", train_score)\n",
    "print(\"The train accuracy was:\", train_score/60000)"
   ]
  },
  {
   "cell_type": "code",
   "execution_count": 15,
   "id": "87ecdc64-7fc3-4e69-ac89-46bfced334cf",
   "metadata": {},
   "outputs": [
    {
     "name": "stdout",
     "output_type": "stream",
     "text": [
      "The test score was: 9578\n",
      "The test accuracy was: 0.9578\n"
     ]
    }
   ],
   "source": [
    "test_score = 0\n",
    "for datapoint in test_data:\n",
    "    target, inputs = transform(datapoint)\n",
    "    outputs = final_net.query(inputs)\n",
    "    label = numpy.argmax(outputs)\n",
    "    if label == target:\n",
    "        test_score += 1\n",
    "print(\"The test score was:\", test_score)\n",
    "print(\"The test accuracy was:\", test_score/10000)"
   ]
  },
  {
   "cell_type": "markdown",
   "id": "5ba5f3b1-7e1b-4b37-baa4-dfb89b541609",
   "metadata": {},
   "source": [
    "### Comments:\n",
    "\n",
    "(1) At first, I tried using 1000 nodes in the middle layer but this took way too long so I went down to 200 instead. This was much more reasonable time-wise.\n",
    "\n",
    "(2) Our test accuracy improved slightly from 95% (in the 100 hidden nodes case) to 96%. Again, more testing would be required to see if this is a proper result and not just noise, but it suggests that more hidden nodes might give a better network shape."
   ]
  },
  {
   "cell_type": "markdown",
   "id": "3beba4db-e5fd-424d-960c-93afbada2da2",
   "metadata": {},
   "source": [
    "## Conclusion:\n",
    "\n",
    "The Neural Network seems to be well suited to digit classification problems. In my GitHub repository 'machine-learning-course' the notebook \"8_ensemble_methods\" uses decision tree classification models on this problem. Unfortuately, that project involved a different dataset, so it doesn't seem fair to compare results.\n",
    "\n"
   ]
  },
  {
   "cell_type": "markdown",
   "id": "3f81bc9f-761b-4893-8993-1baaf24c7beb",
   "metadata": {},
   "source": [
    "It should be noted that Neural Nets are likely a good choice because there isn't really a 'correct answer'. For example, different people may disagree on whether a given digit is a '4' or a '9'. The universe doesn't define a correct answer, and the network's output will capture this uncertainty (in the above project, I just took the index of largest output to be the answer, but some cases will be clearer-cut than others). On the other hand, decision trees arrive at a 'correct' answer without this uncertainty (though with ensemble methods, where multiple trees 'vote' on the correct answer, perhaps this could be viewed as capturing the same concept)."
   ]
  },
  {
   "cell_type": "markdown",
   "id": "8b6c4464-00a6-4bf7-add2-67a40ffb5143",
   "metadata": {},
   "source": [
    "### One last thing...\n",
    "\n",
    "I just want to see whether the above hypothesis is correct (if the model has a harder time differentiating between 4s and 9s)."
   ]
  },
  {
   "cell_type": "code",
   "execution_count": 16,
   "id": "407e7493-543d-452c-9ec7-aeb6351be9cf",
   "metadata": {},
   "outputs": [
    {
     "name": "stdout",
     "output_type": "stream",
     "text": [
      "The train score is: 57346\n",
      "The train accuracy is:  0.9557666666666667\n",
      "{0: 106, 1: 132, 2: 373, 3: 359, 4: 311, 5: 321, 6: 117, 7: 306, 8: 439, 9: 190}\n"
     ]
    }
   ],
   "source": [
    "# neuralnet model is already trained\n",
    "\n",
    "fail_freq = {0:0, 1:0, 2:0, 3:0, 4:0, 5:0, 6:0, 7:0, 8:0, 9:0}\n",
    "\n",
    "train_score = 0\n",
    "for datapoint in train_data:\n",
    "    target, inputs = transform(datapoint)\n",
    "    outputs = neuralnet.query(inputs)\n",
    "    label = numpy.argmax(outputs)\n",
    "    if label == target:\n",
    "        train_score += 1\n",
    "    else:\n",
    "        fail_freq[target] += 1\n",
    "print(\"The train score is:\", train_score)\n",
    "print(\"The train accuracy is: \", train_score/60000)\n",
    "print(fail_freq)"
   ]
  },
  {
   "cell_type": "markdown",
   "id": "ef185711-423f-4b41-85c4-956bcc4fa7f4",
   "metadata": {},
   "source": [
    "### Answer\n",
    "\n",
    "Not really. All digits have a fair few fails. It seems 8s are the hardest to get right (maybe because they can be confused with 0s, 3s, 6s and 9s?)."
   ]
  }
 ],
 "metadata": {
  "kernelspec": {
   "display_name": "Python 3 (ipykernel)",
   "language": "python",
   "name": "python3"
  },
  "language_info": {
   "codemirror_mode": {
    "name": "ipython",
    "version": 3
   },
   "file_extension": ".py",
   "mimetype": "text/x-python",
   "name": "python",
   "nbconvert_exporter": "python",
   "pygments_lexer": "ipython3",
   "version": "3.9.12"
  }
 },
 "nbformat": 4,
 "nbformat_minor": 5
}
